{
 "cells": [
  {
   "cell_type": "markdown",
   "id": "b466059d-7108-4bfc-959d-69080f58f6b2",
   "metadata": {},
   "source": [
    "Part 1"
   ]
  },
  {
   "cell_type": "code",
   "execution_count": 1,
   "id": "22c71641-d068-48ae-be18-bdb39a1d04b7",
   "metadata": {},
   "outputs": [
    {
     "name": "stdout",
     "output_type": "stream",
     "text": [
      "1071734\n"
     ]
    }
   ],
   "source": [
    "from collections import Counter\n",
    "\n",
    "def digits_to_binary(l):\n",
    "    binary_str = \"\".join(l)\n",
    "    return int(binary_str, 2)\n",
    "\n",
    "with open(\"input.txt\", \"r\") as f:\n",
    "    digit_counts = []\n",
    "    for line in f:\n",
    "        line = line.rstrip()\n",
    "        if not digit_counts:\n",
    "            digit_counts = [Counter() for _ in line]\n",
    "        for pos, digit in enumerate(line):\n",
    "            digit_counts[pos][digit] += 1\n",
    "    gamma = digits_to_binary([max(c, key=c.get) for c in digit_counts])\n",
    "    epsilon = digits_to_binary([min(c, key=c.get) for c in digit_counts])\n",
    "print(gamma*epsilon)"
   ]
  },
  {
   "cell_type": "markdown",
   "id": "3bbb7ea9-9364-4bf5-a716-ba7787edf9c6",
   "metadata": {},
   "source": [
    "Part 2"
   ]
  },
  {
   "cell_type": "code",
   "execution_count": 2,
   "id": "3aa49b99-9c91-4604-98c2-134d8c3ff841",
   "metadata": {},
   "outputs": [
    {
     "name": "stdout",
     "output_type": "stream",
     "text": [
      "6124992\n"
     ]
    }
   ],
   "source": [
    "digits = []\n",
    "with open(\"input.txt\", \"r\") as f:\n",
    "    for line in f:\n",
    "        digits.append(line.rstrip())\n",
    "\n",
    "def find(digits, criteria):\n",
    "    \"\"\"criteria: max (msb) or min (lsb).\"\"\"\n",
    "    criteria_pos = 0\n",
    "    results = digits.copy()\n",
    "    while len(results) > 1:\n",
    "        digit_count = Counter(r[criteria_pos] for r in results)\n",
    "        if digit_count[\"0\"] == digit_count[\"1\"]:\n",
    "            digit_filter = \"1\" if criteria==max else \"0\"\n",
    "        else:\n",
    "            digit_filter = criteria(digit_count, key=digit_count.get)\n",
    "        results = [r for r in results if r[criteria_pos] == digit_filter]\n",
    "        criteria_pos += 1\n",
    "    return int(results[0], 2)\n",
    "\n",
    "print(find(digits, max)*find(digits, min))"
   ]
  }
 ],
 "metadata": {
  "kernelspec": {
   "display_name": "Python 3",
   "language": "python",
   "name": "python3"
  },
  "language_info": {
   "codemirror_mode": {
    "name": "ipython",
    "version": 3
   },
   "file_extension": ".py",
   "mimetype": "text/x-python",
   "name": "python",
   "nbconvert_exporter": "python",
   "pygments_lexer": "ipython3",
   "version": "3.10.0"
  }
 },
 "nbformat": 4,
 "nbformat_minor": 5
}
