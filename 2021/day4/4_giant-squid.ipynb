{
 "cells": [
  {
   "cell_type": "markdown",
   "id": "7493c68f-382f-4446-8805-af86b716fe18",
   "metadata": {},
   "source": [
    "https://adventofcode.com/2021/day/4"
   ]
  },
  {
   "cell_type": "markdown",
   "id": "533abd7e-da14-4ade-8cb6-ce18d9c0886e",
   "metadata": {},
   "source": [
    "Part 1"
   ]
  },
  {
   "cell_type": "code",
   "execution_count": 1,
   "id": "6c7b481b-8ed5-45e6-aebc-8f40fdea2148",
   "metadata": {},
   "outputs": [
    {
     "name": "stdout",
     "output_type": "stream",
     "text": [
      "60368\n"
     ]
    }
   ],
   "source": [
    "def parse_bingo(filepath):\n",
    "    boards = []\n",
    "    with open(filepath, \"r\") as f:\n",
    "        draws = f.readline().rstrip().split(\",\")\n",
    "        f.readline()\n",
    "        board = []\n",
    "        for line in f:\n",
    "            line = line.rstrip()\n",
    "            if line:\n",
    "                board.append(line.split())\n",
    "            else:\n",
    "                boards.append(board)\n",
    "                board = []\n",
    "        boards.append(board)\n",
    "        return draws, boards\n",
    "\n",
    "def play_bingo(draws, boards):\n",
    "    for num in draws:\n",
    "        boards = [mark_board(board, num) for board in boards]\n",
    "        for board in boards:\n",
    "            if wins(board):\n",
    "                return score_bingo(board, num)\n",
    "\n",
    "def mark_board(board, num):\n",
    "    for i, line in enumerate(board):\n",
    "        for j, board_num in enumerate(line):\n",
    "            if num == board_num:\n",
    "                board[i][j] = \"\"\n",
    "    return board\n",
    "\n",
    "def wins(board):\n",
    "    n, m = len(board), len(board[0])\n",
    "    for line in board:\n",
    "        if all(val==\"\" for val in line):\n",
    "            return True\n",
    "    for j in range(m):\n",
    "        if all(board[i][j]==\"\" for i in range(n)):\n",
    "            return True\n",
    "    return False\n",
    "\n",
    "def score_bingo(board, winning_num):\n",
    "    score = 0\n",
    "    for line in board:\n",
    "        for num in line:\n",
    "            if num != \"\":\n",
    "                score += int(num)\n",
    "    return int(winning_num) * score\n",
    "    \n",
    "draws, boards = parse_bingo(\"input.txt\")\n",
    "score = play_bingo(draws, boards)\n",
    "\n",
    "print(score)"
   ]
  },
  {
   "cell_type": "markdown",
   "id": "90db5345-613b-4e8b-9062-28934796ed71",
   "metadata": {},
   "source": [
    "Part 2"
   ]
  },
  {
   "cell_type": "code",
   "execution_count": 2,
   "id": "495ad56b-aada-497d-8e0e-0551d697deee",
   "metadata": {},
   "outputs": [
    {
     "name": "stdout",
     "output_type": "stream",
     "text": [
      "17435\n"
     ]
    }
   ],
   "source": [
    "def play_losing_bingo(draws, boards):\n",
    "    boards_in_play = len(boards)\n",
    "    for num in draws:\n",
    "        boards = [mark_board(board, num) for board in boards]\n",
    "        for k, board in enumerate(boards):\n",
    "            if wins(board):\n",
    "                if boards_in_play == 1:\n",
    "                    return score_bingo(board, num)\n",
    "                boards_in_play -= 1\n",
    "                boards.pop(k)\n",
    "\n",
    "draws, boards = parse_bingo(\"input.txt\")\n",
    "score = play_losing_bingo(draws, boards)\n",
    "\n",
    "print(score)"
   ]
  }
 ],
 "metadata": {
  "kernelspec": {
   "display_name": "Python 3",
   "language": "python",
   "name": "python3"
  },
  "language_info": {
   "codemirror_mode": {
    "name": "ipython",
    "version": 3
   },
   "file_extension": ".py",
   "mimetype": "text/x-python",
   "name": "python",
   "nbconvert_exporter": "python",
   "pygments_lexer": "ipython3",
   "version": "3.10.0"
  }
 },
 "nbformat": 4,
 "nbformat_minor": 5
}
