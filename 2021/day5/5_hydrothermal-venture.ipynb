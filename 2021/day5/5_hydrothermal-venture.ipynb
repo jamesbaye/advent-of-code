{
 "cells": [
  {
   "cell_type": "markdown",
   "id": "117a3692-e6a0-4d6c-b85e-83702f6ff920",
   "metadata": {},
   "source": [
    "https://adventofcode.com/2021/day/5"
   ]
  },
  {
   "cell_type": "markdown",
   "id": "eba6e377-a68a-4dc6-9990-e0f168283db1",
   "metadata": {},
   "source": [
    "Part 1"
   ]
  },
  {
   "cell_type": "code",
   "execution_count": 1,
   "id": "a89025d7-9665-454e-892b-eca0475a2944",
   "metadata": {},
   "outputs": [
    {
     "name": "stdout",
     "output_type": "stream",
     "text": [
      "5197\n"
     ]
    }
   ],
   "source": [
    "from collections import Counter\n",
    "\n",
    "def parse_line(l):\n",
    "    start, stop = map(parse_coord, l.split(\" -> \"))\n",
    "    return start, stop\n",
    "\n",
    "def parse_coord(s):\n",
    "    return map(int, s.split(\",\"))\n",
    "\n",
    "def mark_grid(grid, start, stop):\n",
    "    x1, y1 = start\n",
    "    x2, y2 = stop\n",
    "    if x1 == x2:\n",
    "        y1, y2 = min(y1, y2), max(y1, y2) + 1\n",
    "        for i in range(y1, y2):\n",
    "            grid[(i, x1)] += 1\n",
    "    elif y1 == y2:\n",
    "        x1, x2 = min(x1, x2), max(x1, x2) + 1\n",
    "        for j in range(x1, x2):\n",
    "            grid[(y1, j)] += 1\n",
    "    return grid\n",
    "\n",
    "def count_unsafe_coords(grid):\n",
    "    count = 0\n",
    "    for coord, val in grid.items():\n",
    "        if val > 1:\n",
    "            count += 1\n",
    "    return count\n",
    "\n",
    "with open(\"input.txt\", \"r\") as f:\n",
    "    grid = Counter()\n",
    "    for line in f:\n",
    "        start, stop = parse_line(line)\n",
    "        grid = mark_grid(grid, start, stop)\n",
    "    print(count_unsafe_coords(grid))         "
   ]
  },
  {
   "cell_type": "markdown",
   "id": "c965e9ee-4a24-45f0-8d11-a5163930a73a",
   "metadata": {},
   "source": [
    "Part 2"
   ]
  },
  {
   "cell_type": "code",
   "execution_count": 2,
   "id": "cd8ff485-b78b-4a78-bbb8-a5565a23379e",
   "metadata": {},
   "outputs": [
    {
     "name": "stdout",
     "output_type": "stream",
     "text": [
      "18605\n"
     ]
    }
   ],
   "source": [
    "from itertools import cycle\n",
    "\n",
    "def mark_grid_with_diagonals(grid, start, stop):\n",
    "    x1, y1 = start\n",
    "    x2, y2 = stop\n",
    "    xstep = 1 if x2 >= x1 else -1\n",
    "    ystep = 1 if y2 >= y1 else -1\n",
    "    xrange = range(x1, x2 + xstep, xstep)\n",
    "    yrange = range(y1, y2 + ystep, ystep)\n",
    "    coord_range = (\n",
    "        zip(xrange, cycle(yrange)) if len(yrange) < len(xrange)\n",
    "        else zip(cycle(xrange), yrange)\n",
    "    )\n",
    "    for j, i in coord_range:\n",
    "        grid[(i, j)] += 1\n",
    "    return grid\n",
    "\n",
    "with open(\"input.txt\", \"r\") as f:\n",
    "    grid = Counter()\n",
    "    for line in f:\n",
    "        start, stop = parse_line(line)\n",
    "        grid = mark_grid_with_diagonals(grid, start, stop)\n",
    "    print(count_unsafe_coords(grid))  "
   ]
  }
 ],
 "metadata": {
  "kernelspec": {
   "display_name": "Python 3",
   "language": "python",
   "name": "python3"
  },
  "language_info": {
   "codemirror_mode": {
    "name": "ipython",
    "version": 3
   },
   "file_extension": ".py",
   "mimetype": "text/x-python",
   "name": "python",
   "nbconvert_exporter": "python",
   "pygments_lexer": "ipython3",
   "version": "3.10.0"
  }
 },
 "nbformat": 4,
 "nbformat_minor": 5
}
