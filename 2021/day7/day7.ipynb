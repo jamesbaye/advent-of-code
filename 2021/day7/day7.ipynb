{
 "cells": [
  {
   "cell_type": "markdown",
   "metadata": {},
   "source": [
    "https://adventofcode.com/2021/day/7"
   ]
  },
  {
   "cell_type": "markdown",
   "metadata": {},
   "source": [
    "Part 1"
   ]
  },
  {
   "cell_type": "markdown",
   "metadata": {},
   "source": [
    "Sum of absolute deviations is minimized at the median"
   ]
  },
  {
   "cell_type": "code",
   "execution_count": 23,
   "metadata": {},
   "outputs": [
    {
     "name": "stdout",
     "output_type": "stream",
     "text": [
      "347011.0\n"
     ]
    }
   ],
   "source": [
    "from statistics import median\n",
    "\n",
    "def fuel_cost(l, x):\n",
    "    return(sum(abs(val - x) for val in l))\n",
    "\n",
    "with open(\"input.txt\") as f:\n",
    "    positions = [int(x) for x in f.readline().rstrip().split(\",\")]\n",
    "    print(fuel_cost(positions, median(positions)))"
   ]
  },
  {
   "cell_type": "markdown",
   "metadata": {},
   "source": [
    "Part 2"
   ]
  },
  {
   "cell_type": "markdown",
   "metadata": {},
   "source": [
    "Our cost function is now the sum of squares plus the sum of absolute deviations. Former is mimized at the mean, latter is minimized at the median. So our argmin is somewhere between the mean and median."
   ]
  },
  {
   "cell_type": "code",
   "execution_count": 34,
   "metadata": {},
   "outputs": [
    {
     "name": "stdout",
     "output_type": "stream",
     "text": [
      "98363777.0\n"
     ]
    }
   ],
   "source": [
    "from statistics import mean, median\n",
    "\n",
    "def fuel_cost(l, x):\n",
    "    return(sum(abs(val - x)*(abs(val - x) + 1)/2 for val in l))\n",
    "\n",
    "with open(\"input.txt\") as f:\n",
    "    positions = [int(x) for x in f.readline().rstrip().split(\",\")]\n",
    "    start = min(int(median(positions)), int(mean(positions))+1)\n",
    "    stop = max(int(median(positions)), int(mean(positions))+1)\n",
    "    min_cost = float(\"Inf\")\n",
    "    for pos_attempt in range(start, stop+1):\n",
    "        cost = fuel_cost(positions, pos_attempt)\n",
    "        if cost < min_cost:\n",
    "            min_cost = cost\n",
    "    print(min_cost)"
   ]
  }
 ],
 "metadata": {
  "kernelspec": {
   "display_name": "Python 3",
   "language": "python",
   "name": "python3"
  },
  "language_info": {
   "codemirror_mode": {
    "name": "ipython",
    "version": 3
   },
   "file_extension": ".py",
   "mimetype": "text/x-python",
   "name": "python",
   "nbconvert_exporter": "python",
   "pygments_lexer": "ipython3",
   "version": "3.7.6"
  }
 },
 "nbformat": 4,
 "nbformat_minor": 4
}
