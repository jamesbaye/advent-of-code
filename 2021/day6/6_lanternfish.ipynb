{
 "cells": [
  {
   "cell_type": "markdown",
   "id": "3066d206-5a09-4ad8-b70e-92371aaf3766",
   "metadata": {},
   "source": [
    "https://adventofcode.com/2021/day/6"
   ]
  },
  {
   "cell_type": "markdown",
   "id": "33fe1bf3-c9fc-40df-9d15-1912da6f82a4",
   "metadata": {},
   "source": [
    "Part 1"
   ]
  },
  {
   "cell_type": "code",
   "execution_count": 1,
   "id": "7d7b7307-cb09-412c-bd7a-c5ffad4f6e0d",
   "metadata": {},
   "outputs": [
    {
     "name": "stdout",
     "output_type": "stream",
     "text": [
      "375482\n"
     ]
    }
   ],
   "source": [
    "def simul_lanternfish(start, n, cycle=6, first_cycle=8):\n",
    "    \"\"\"Return the number of lanternfish after n days.\n",
    "    Args:\n",
    "        start (list): each element is a lanternfish.\n",
    "            value is remaining days until it reproduces.\n",
    "    \"\"\"\n",
    "    simul = [days for days in start]\n",
    "    for _ in range(n):\n",
    "        for i in range(len(simul)):\n",
    "            if simul[i] == 0:\n",
    "                simul[i] = cycle\n",
    "                simul.append(first_cycle)\n",
    "            else:\n",
    "                simul[i] -= 1\n",
    "    return len(simul)\n",
    "\n",
    "with open(\"input.txt\", \"r\") as f:\n",
    "    start = [int(days) for days in f.readline().rstrip().split(\",\")]\n",
    "    print(simul_lanternfish(start, 80))"
   ]
  },
  {
   "cell_type": "markdown",
   "id": "f24e0251-733f-492f-9d88-a97702dd6acf",
   "metadata": {},
   "source": [
    "Part 2"
   ]
  },
  {
   "cell_type": "code",
   "execution_count": 2,
   "id": "06808f9d-0c9b-4dd8-8739-eb2e1d05508d",
   "metadata": {},
   "outputs": [
    {
     "name": "stdout",
     "output_type": "stream",
     "text": [
      "1689540415957\n"
     ]
    }
   ],
   "source": [
    "from collections import Counter\n",
    "\n",
    "def simul_lanternfish_fast(start, n, cycle=6, first_cycle=8):\n",
    "    \"\"\"Return the number of lanternfish after n days.\n",
    "    Args:\n",
    "        start (list): each element is a lanternfish.\n",
    "            value is remaining days until it reproduces.\n",
    "    \"\"\"\n",
    "    simul = Counter(start)\n",
    "    for _ in range(n):\n",
    "        simul_next = Counter()\n",
    "        for day, n_fish in simul.items():\n",
    "            if day == 0:\n",
    "                simul_next[first_cycle] += n_fish\n",
    "                simul_next[cycle] += n_fish\n",
    "            else:\n",
    "                simul_next[day-1] += simul[day]\n",
    "        simul = simul_next\n",
    "    return sum(simul.values())\n",
    "\n",
    "with open(\"input.txt\", \"r\") as f:\n",
    "    start = [int(days) for days in f.readline().rstrip().split(\",\")]\n",
    "    print(simul_lanternfish_fast(start, 256))"
   ]
  }
 ],
 "metadata": {
  "kernelspec": {
   "display_name": "Python 3",
   "language": "python",
   "name": "python3"
  },
  "language_info": {
   "codemirror_mode": {
    "name": "ipython",
    "version": 3
   },
   "file_extension": ".py",
   "mimetype": "text/x-python",
   "name": "python",
   "nbconvert_exporter": "python",
   "pygments_lexer": "ipython3",
   "version": "3.10.0"
  }
 },
 "nbformat": 4,
 "nbformat_minor": 5
}
