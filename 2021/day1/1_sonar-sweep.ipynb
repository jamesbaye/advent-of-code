{
 "cells": [
  {
   "cell_type": "markdown",
   "metadata": {},
   "source": [
    "https://adventofcode.com/2021/day/1/"
   ]
  },
  {
   "cell_type": "markdown",
   "metadata": {},
   "source": [
    "Part 1"
   ]
  },
  {
   "cell_type": "code",
   "execution_count": 1,
   "metadata": {},
   "outputs": [
    {
     "name": "stdout",
     "output_type": "stream",
     "text": [
      "1692\n"
     ]
    }
   ],
   "source": [
    "count = 0\n",
    "with open(\"input.txt\", \"r\") as f:\n",
    "    depth_current = f.readline()\n",
    "    for depth in f:\n",
    "        if int(depth) > int(depth_current):\n",
    "            count += 1\n",
    "        depth_current = depth\n",
    "print(count)    "
   ]
  },
  {
   "cell_type": "markdown",
   "metadata": {},
   "source": [
    "Part 2"
   ]
  },
  {
   "cell_type": "code",
   "execution_count": 2,
   "metadata": {},
   "outputs": [
    {
     "name": "stdout",
     "output_type": "stream",
     "text": [
      "1724\n"
     ]
    }
   ],
   "source": [
    "from queue import SimpleQueue\n",
    "window = 3\n",
    "count = 0\n",
    "with open(\"input.txt\", \"r\") as f:\n",
    "    depths = SimpleQueue()\n",
    "    for _ in range(window):\n",
    "        depths.put(f.readline())\n",
    "    for depth in f:\n",
    "        depth_current = depths.get()\n",
    "        if int(depth) > int(depth_current):\n",
    "            count += 1\n",
    "        depths.put(depth)\n",
    "print(count)"
   ]
  }
 ],
 "metadata": {
  "kernelspec": {
   "display_name": "Python 3",
   "language": "python",
   "name": "python3"
  },
  "language_info": {
   "codemirror_mode": {
    "name": "ipython",
    "version": 3
   },
   "file_extension": ".py",
   "mimetype": "text/x-python",
   "name": "python",
   "nbconvert_exporter": "python",
   "pygments_lexer": "ipython3",
   "version": "3.10.0"
  }
 },
 "nbformat": 4,
 "nbformat_minor": 4
}
