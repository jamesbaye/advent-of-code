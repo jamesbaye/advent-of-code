{
 "cells": [
  {
   "cell_type": "markdown",
   "id": "96abb4cc-82b1-4c64-850a-8068df563fb4",
   "metadata": {},
   "source": [
    "https://adventofcode.com/2021/day/2"
   ]
  },
  {
   "cell_type": "markdown",
   "id": "df8ef533-e02d-45c9-9af4-6fdf4ce005ed",
   "metadata": {},
   "source": [
    "Part 1"
   ]
  },
  {
   "cell_type": "code",
   "execution_count": 1,
   "id": "245ef291-14ed-476d-bf4c-f0c0b5f97b7f",
   "metadata": {},
   "outputs": [
    {
     "name": "stdout",
     "output_type": "stream",
     "text": [
      "2215080\n"
     ]
    }
   ],
   "source": [
    "def parse_move(l):\n",
    "    x, y = 0, 0\n",
    "    direction, distance = l.split(\" \")\n",
    "    if direction == \"forward\":\n",
    "        x = int(distance)\n",
    "    elif direction == \"down\":\n",
    "        y = int(distance)\n",
    "    elif direction == \"up\":\n",
    "        y = -int(distance)\n",
    "    else:\n",
    "        raise ValueError(direction)\n",
    "    return x, y\n",
    "\n",
    "x, y = 0, 0\n",
    "with open(\"input.txt\", \"r\") as f:\n",
    "    for line in f:\n",
    "        x_move, y_move = parse_move(line)\n",
    "        x += x_move\n",
    "        y += y_move\n",
    "print(x*y)"
   ]
  },
  {
   "cell_type": "markdown",
   "id": "3793490a-da5f-4990-bc8e-c18d43fbe71b",
   "metadata": {},
   "source": [
    "Part 2"
   ]
  },
  {
   "cell_type": "markdown",
   "id": "3a2e9f0d-d525-4cc7-b8d2-9bdd0040b0bd",
   "metadata": {},
   "source": [
    "In addition to horizontal position and depth, you'll also need to track a third value, aim, which also starts at 0. The commands also mean something entirely different than you first thought:\n",
    "\n",
    "- down X increases your aim by X units.\n",
    "- up X decreases your aim by X units.\n",
    "- forward X does two things:\n",
    "-- It increases your horizontal position by X units.\n",
    "-- It increases your depth by your aim multiplied by X."
   ]
  },
  {
   "cell_type": "code",
   "execution_count": 2,
   "id": "6406eb8c-2a06-4e27-af64-1822552222b1",
   "metadata": {},
   "outputs": [
    {
     "name": "stdout",
     "output_type": "stream",
     "text": [
      "1864715580\n"
     ]
    }
   ],
   "source": [
    "def parse_move(l, aim_current):\n",
    "    x, y, aim = 0, 0, 0\n",
    "    direction, distance = l.split(\" \")\n",
    "    if direction == \"forward\":\n",
    "        x = int(distance)\n",
    "        y = aim_current * x\n",
    "    elif direction == \"down\":\n",
    "        aim = int(distance)\n",
    "    elif direction == \"up\":\n",
    "        aim = -int(distance)\n",
    "    else:\n",
    "        raise ValueError(direction)\n",
    "    return x, y, aim\n",
    "\n",
    "x, y, aim = 0, 0, 0\n",
    "with open(\"input.txt\", \"r\") as f:\n",
    "    for line in f:\n",
    "        x_move, y_move, aim_move = parse_move(line, aim)\n",
    "        x += x_move\n",
    "        y += y_move\n",
    "        aim += aim_move\n",
    "print(x*y)"
   ]
  }
 ],
 "metadata": {
  "kernelspec": {
   "display_name": "Python 3",
   "language": "python",
   "name": "python3"
  },
  "language_info": {
   "codemirror_mode": {
    "name": "ipython",
    "version": 3
   },
   "file_extension": ".py",
   "mimetype": "text/x-python",
   "name": "python",
   "nbconvert_exporter": "python",
   "pygments_lexer": "ipython3",
   "version": "3.10.0"
  }
 },
 "nbformat": 4,
 "nbformat_minor": 5
}
